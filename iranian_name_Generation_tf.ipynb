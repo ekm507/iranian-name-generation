{
  "cells": [
    {
      "cell_type": "markdown",
      "metadata": {
        "id": "view-in-github",
        "colab_type": "text"
      },
      "source": [
        "<a href=\"https://colab.research.google.com/github/ekm507/iranian-name-generation/blob/main/iranian_name_Generation_tf.ipynb\" target=\"_parent\"><img src=\"https://colab.research.google.com/assets/colab-badge.svg\" alt=\"Open In Colab\"/></a>"
      ]
    },
    {
      "cell_type": "markdown",
      "metadata": {
        "id": "uoJsVjtCMunI"
      },
      "source": [
        "model is the same as MIT 6.s191 model for music generation"
      ]
    },
    {
      "cell_type": "code",
      "execution_count": null,
      "metadata": {
        "id": "bUik05YqMyCH"
      },
      "outputs": [],
      "source": [
        "license: GPLv3"
      ]
    },
    {
      "cell_type": "markdown",
      "metadata": {
        "id": "rsvlBQYCrE4I"
      },
      "source": [
        "## 2.1 Dependencies \n",
        "First, let's download the course repository, install dependencies, and import the relevant packages we'll need for this lab."
      ]
    },
    {
      "cell_type": "code",
      "execution_count": null,
      "metadata": {
        "colab": {
          "base_uri": "https://localhost:8080/"
        },
        "id": "riVZCVK65QTH",
        "outputId": "955947d8-da2b-49eb-90b1-3331287b129e"
      },
      "outputs": [
        {
          "output_type": "stream",
          "name": "stdout",
          "text": [
            "Colab only includes TensorFlow 2.x; %tensorflow_version has no effect.\n",
            "Looking in indexes: https://pypi.org/simple, https://us-python.pkg.dev/colab-wheels/public/simple/\n",
            "Collecting mitdeeplearning\n",
            "  Downloading mitdeeplearning-0.2.0.tar.gz (2.1 MB)\n",
            "\u001b[K     |████████████████████████████████| 2.1 MB 4.8 MB/s \n",
            "\u001b[?25hRequirement already satisfied: numpy in /usr/local/lib/python3.7/dist-packages (from mitdeeplearning) (1.21.6)\n",
            "Requirement already satisfied: regex in /usr/local/lib/python3.7/dist-packages (from mitdeeplearning) (2022.6.2)\n",
            "Requirement already satisfied: tqdm in /usr/local/lib/python3.7/dist-packages (from mitdeeplearning) (4.64.1)\n",
            "Requirement already satisfied: gym in /usr/local/lib/python3.7/dist-packages (from mitdeeplearning) (0.25.2)\n",
            "Requirement already satisfied: cloudpickle>=1.2.0 in /usr/local/lib/python3.7/dist-packages (from gym->mitdeeplearning) (1.5.0)\n",
            "Requirement already satisfied: gym-notices>=0.0.4 in /usr/local/lib/python3.7/dist-packages (from gym->mitdeeplearning) (0.0.8)\n",
            "Requirement already satisfied: importlib-metadata>=4.8.0 in /usr/local/lib/python3.7/dist-packages (from gym->mitdeeplearning) (4.12.0)\n",
            "Requirement already satisfied: typing-extensions>=3.6.4 in /usr/local/lib/python3.7/dist-packages (from importlib-metadata>=4.8.0->gym->mitdeeplearning) (4.1.1)\n",
            "Requirement already satisfied: zipp>=0.5 in /usr/local/lib/python3.7/dist-packages (from importlib-metadata>=4.8.0->gym->mitdeeplearning) (3.8.1)\n",
            "Building wheels for collected packages: mitdeeplearning\n",
            "  Building wheel for mitdeeplearning (setup.py) ... \u001b[?25l\u001b[?25hdone\n",
            "  Created wheel for mitdeeplearning: filename=mitdeeplearning-0.2.0-py3-none-any.whl size=2115442 sha256=44422e83a9d9b8535158893307ebb357297079fa980cfc49b522d4dd92a78ea3\n",
            "  Stored in directory: /root/.cache/pip/wheels/9a/b9/4f/99b7c8c5c75355550b83e1fcfc02956fb40c35eb01e2262877\n",
            "Successfully built mitdeeplearning\n",
            "Installing collected packages: mitdeeplearning\n",
            "Successfully installed mitdeeplearning-0.2.0\n"
          ]
        }
      ],
      "source": [
        "# Import Tensorflow 2.0\n",
        "%tensorflow_version 2.x\n",
        "import tensorflow as tf \n",
        "\n",
        "# Download and import the MIT 6.S191 package\n",
        "!pip install mitdeeplearning\n",
        "import mitdeeplearning as mdl\n",
        "\n",
        "# Import all remaining packages\n",
        "import numpy as np\n",
        "import os\n",
        "import time\n",
        "import requests\n",
        "import functools\n",
        "from IPython import display as ipythondisplay\n",
        "from tqdm import tqdm\n",
        "!apt-get install abcmidi timidity > /dev/null 2>&1\n",
        "\n",
        "# Check that we are using a GPU, if not switch runtimes\n",
        "#   using Runtime > Change Runtime Type > GPU\n",
        "assert len(tf.config.list_physical_devices('GPU')) > 0"
      ]
    },
    {
      "cell_type": "markdown",
      "metadata": {
        "id": "_ajvp0No4qDm"
      },
      "source": [
        "## 2.2 Dataset\n",
        "\n",
        "dataset is collected from this repo for persian words: http://github.com/behnam/persian-words-frequency\n",
        "\n",
        "(not used in this notebook)"
      ]
    },
    {
      "cell_type": "code",
      "source": [
        "persian_words_text = requests.get('https://raw.githubusercontent.com/behnam/persian-words-frequency/master/persian-wikipedia.txt').text\n",
        "words = []\n",
        "lines = persian_words_text.split('#')[-1].split('\\n')\n",
        "words = [line.split('\\t')[0] for line in lines[1:-1]]\n",
        "\n",
        "characters = set(''.join(words)+' ')\n",
        "code_to_character = dict(enumerate(characters))\n",
        "character_to_code = {y: x for x, y in code_to_character.items()}\n",
        "print(character_to_code)\n",
        "code_size = len(characters)\n",
        "\n",
        "def encode_text(text):\n",
        "  return [character_to_code[character] for character in text]\n",
        "\n",
        "def decode_text(number_list):\n",
        "  return ''.join([code_to_character[code] for code in number_list])\n",
        "\n",
        "encoded_words = [encode_text(word) for word in words]\n",
        "# encoded_words = np.array(encoded_words)\n",
        "\n",
        "full_text = ' '.join(words)\n",
        "encoded_full_text = np.array(encode_text(full_text))\n",
        "print(len(encoded_full_text))"
      ],
      "metadata": {
        "colab": {
          "base_uri": "https://localhost:8080/"
        },
        "id": "5A0AMCn3LpVc",
        "outputId": "63c8fb8e-26c5-41fb-8c1b-e1a89836e460"
      },
      "execution_count": null,
      "outputs": [
        {
          "output_type": "stream",
          "name": "stdout",
          "text": [
            "{'آ': 0, 'ژ': 1, 'ّ': 2, 'ظ': 3, '‐': 4, 'ٱ': 5, 'ز': 6, 'گ': 7, 'ْ': 8, 'ة': 9, 'ص': 10, 'ک': 11, 'َ': 12, 'ب': 13, 'س': 14, 'ى': 15, 'د': 16, 'و': 17, 'ٌ': 18, 'ٔ': 19, 'ح': 20, 'ۀ': 21, 'ً': 22, 'ط': 23, 'ع': 24, 'ٰ': 25, 'م': 26, 'چ': 27, 'ش': 28, 'ث': 29, 'ض': 30, 'ل': 31, 'ق': 32, 'أ': 33, 'ی': 34, '\\u200c': 35, 'غ': 36, 'ف': 37, 'ر': 38, ' ': 39, 'ت': 40, 'ن': 41, 'ٍ': 42, 'ؤ': 43, 'ك': 44, 'پ': 45, 'ذ': 46, 'ء': 47, 'ج': 48, 'إ': 49, 'ئ': 50, 'ا': 51, 'ِ': 52, 'ي': 53, 'ُ': 54, 'ه': 55, '\\u200d': 56, 'خ': 57, 'ٓ': 58}\n",
            "3260895\n"
          ]
        }
      ]
    },
    {
      "cell_type": "markdown",
      "source": [
        "\n",
        "dataset is collected from this repo for persian names: https://github.com/peymanslh/persian-gender-detection/"
      ],
      "metadata": {
        "id": "ankEdvOx53m4"
      }
    },
    {
      "cell_type": "code",
      "source": [
        "iranian_names_csv = requests.get('https://raw.githubusercontent.com/peymanslh/persian-gender-detection/master/gender/names.csv').text\n",
        "persian_names = [line.split(',')[0] for line in iranian_names_csv.split('\\n')[1:]]\n",
        "\n",
        "full_text = ' '.join(persian_names)\n",
        "\n",
        "characters = set(full_text)\n",
        "code_to_character = dict(enumerate(characters))\n",
        "character_to_code = {y: x for x, y in code_to_character.items()}\n",
        "\n",
        "code_size = len(characters)\n",
        "\n",
        "def encode_text(text):\n",
        "  return [character_to_code[character] for character in text]\n",
        "\n",
        "def decode_text(number_list):\n",
        "  return ''.join([code_to_character[code] for code in number_list])\n",
        "\n",
        "encoded_full_text = np.array(encode_text(full_text))\n",
        "\n",
        "\n",
        "print(len(persian_names))\n",
        "print(persian_names[:10])\n",
        "print(len(encoded_full_text))"
      ],
      "metadata": {
        "colab": {
          "base_uri": "https://localhost:8080/"
        },
        "id": "V4ZM3iU0ibXP",
        "outputId": "fd649b81-8748-461d-951d-e482399fc64e"
      },
      "execution_count": null,
      "outputs": [
        {
          "output_type": "stream",
          "name": "stdout",
          "text": [
            "6175\n",
            "['اَبدَه', 'اَبیش', 'اَپروَند', 'اَپروَیژ', 'اَپیوه', 'اَترس', 'اَدرك', 'اَرتان', 'اَردویسور', 'اَرشَن']\n",
            "40108\n"
          ]
        }
      ]
    },
    {
      "cell_type": "markdown",
      "metadata": {
        "id": "rNnrKn_lL-IJ"
      },
      "source": [
        "## 2.3 Process the dataset for the learning task\n",
        "\n",
        "Let's take a step back and consider our prediction task. We're trying to train a RNN model to learn patterns in ABC music, and then use this model to generate (i.e., predict) a new piece of music based on this learned information. \n",
        "\n",
        "Breaking this down, what we're really asking the model is: given a character, or a sequence of characters, what is the most probable next character? We'll train the model to perform this task. \n",
        "\n",
        "To achieve this, we will input a sequence of characters to the model, and train the model to predict the output, that is, the following character at each time step. RNNs maintain an internal state that depends on previously seen elements, so information about all characters seen up until a given moment will be taken into account in generating the prediction."
      ]
    },
    {
      "cell_type": "markdown",
      "metadata": {
        "id": "LFjSVAlWzf-N"
      },
      "source": [
        "### Vectorize the text\n",
        "\n",
        "Before we begin training our RNN model, we'll need to create a numerical representation of our text-based dataset. To do this, we'll generate two lookup tables: one that maps characters to numbers, and a second that maps numbers back to characters. Recall that we just identified the unique characters present in the text."
      ]
    },
    {
      "cell_type": "markdown",
      "metadata": {
        "id": "hgsVvVxnymwf"
      },
      "source": [
        "### Create training examples and targets\n",
        "\n",
        "Our next step is to actually divide the text into example sequences that we'll use during training. Each input sequence that we feed into our RNN will contain `seq_length` characters from the text. We'll also need to define a target sequence for each input sequence, which will be used in training the RNN to predict the next character. For each input, the corresponding target will contain the same length of text, except shifted one character to the right.\n",
        "\n",
        "To do this, we'll break the text into chunks of `seq_length+1`. Suppose `seq_length` is 4 and our text is \"Hello\". Then, our input sequence is \"Hell\" and the target sequence is \"ello\".\n",
        "\n",
        "The batch method will then let us convert this stream of character indices to sequences of the desired size."
      ]
    },
    {
      "cell_type": "code",
      "execution_count": null,
      "metadata": {
        "colab": {
          "base_uri": "https://localhost:8080/"
        },
        "id": "6atmr0a-9sR7",
        "outputId": "6b4b403b-79a9-4c5a-fb9b-b9645474d787"
      },
      "outputs": [
        {
          "output_type": "stream",
          "name": "stdout",
          "text": [
            "3260895\n"
          ]
        }
      ],
      "source": [
        "print(len(encoded_full_text))"
      ]
    },
    {
      "cell_type": "code",
      "execution_count": null,
      "metadata": {
        "id": "LF-N8F7BoDRi"
      },
      "outputs": [],
      "source": [
        "### Batch definition to create training examples ###\n",
        "\n",
        "def get_batch(encoded_full_text, seq_length, batch_size):\n",
        "  # the length of the vectorized songs string\n",
        "  n = encoded_full_text.shape[0] - 1\n",
        "  # randomly choose the starting indices for the examples in the training batch\n",
        "  idx = np.random.choice(n-seq_length*2, batch_size)\n",
        "\n",
        "  idx_space = []\n",
        "  for idx in idx:\n",
        "    for i in range(idx, idx + 30):\n",
        "      if full_text[i] == ' ':\n",
        "        break\n",
        "    idx_space.append(i)\n",
        "  \n",
        "\n",
        "\n",
        "  '''TODO: construct a list of input sequences for the training batch'''\n",
        "  input_batch = np.array([encoded_full_text[q:q+seq_length] for q in idx_space])\n",
        "  '''TODO: construct a list of output sequences for the training batch'''\n",
        "  output_batch = np.array([encoded_full_text[q+1:q+seq_length+1] for q in idx_space])\n",
        "  # x_batch, y_batch provide the true inputs and targets for network training\n",
        "  x_batch = np.reshape(input_batch, [batch_size, seq_length])\n",
        "  y_batch = np.reshape(output_batch, [batch_size, seq_length])\n",
        "  return x_batch, y_batch\n",
        "\n",
        "\n",
        "# Perform some simple tests to make sure your batch function is working properly! \n",
        "test_args = (encoded_full_text, 10, 2)\n"
      ]
    },
    {
      "cell_type": "code",
      "source": [
        "def get_batch2(encoded_words, seq_length, batch_size):\n",
        "\n",
        "  words_ids = np.random.choice(len(encoded_words), batch_size)\n",
        "  words = [encoded_words[id][:seq_length] for id in words_ids]\n",
        "  # words = np.array([word for word in words])\n",
        "\n",
        "  # print(words)\n",
        "\n",
        "  space_code = encode_text(' ')\n",
        "\n",
        "  # input_batch = np.array([word[:-1] for word in words])\n",
        "  # output_batch = np.array([word[1:] for word in words])\n",
        "  input_batch = [word[:-1] + space_code * (seq_length - len(word)) for word in words]\n",
        "  output_batch = [word[1:] + space_code * (seq_length - len(word)) for word in words]\n",
        "  # output_batch = [word[1:] for word in words]\n",
        "  # x_batch, y_batch provide the true inputs and targets for network training\n",
        "  # x_batch = np.reshape(input_batch, [batch_size, seq_length])\n",
        "  # y_batch = np.reshape(output_batch, [batch_size, seq_length])\n",
        "  return np.array(input_batch), np.array(output_batch)\n",
        "\n",
        "get_batch2(encoded_words, 20, 2)"
      ],
      "metadata": {
        "colab": {
          "base_uri": "https://localhost:8080/"
        },
        "id": "zrHFiHxtcJXa",
        "outputId": "d381a558-167d-4bb3-8952-d2d12840664c"
      },
      "execution_count": null,
      "outputs": [
        {
          "output_type": "execute_result",
          "data": {
            "text/plain": [
              "(array([[17,  0, 34, 39, 39, 39, 39, 39, 39, 39, 39, 39, 39, 39, 39, 39,\n",
              "         39, 39, 39],\n",
              "        [11, 17, 38, 34, 41, 40, 39, 39, 39, 39, 39, 39, 39, 39, 39, 39,\n",
              "         39, 39, 39]]),\n",
              " array([[ 0, 34, 40, 39, 39, 39, 39, 39, 39, 39, 39, 39, 39, 39, 39, 39,\n",
              "         39, 39, 39],\n",
              "        [17, 38, 34, 41, 40, 17, 39, 39, 39, 39, 39, 39, 39, 39, 39, 39,\n",
              "         39, 39, 39]]))"
            ]
          },
          "metadata": {},
          "execution_count": 56
        }
      ]
    },
    {
      "cell_type": "code",
      "source": [
        "def get_batch3(encoded_full_text, seq_length, batch_size):\n",
        "  # the length of the vectorized songs string\n",
        "  n = len(encoded_full_text) - 1\n",
        "  # randomly choose the starting indices for the examples in the training batch\n",
        "  idx = np.random.choice(n-seq_length, batch_size)\n",
        "\n",
        "  idx_space = []\n",
        "  idx_last = []\n",
        "  for idx in idx:\n",
        "    j = idx + seq_length\n",
        "    for i in range(idx, idx + 30):\n",
        "      if full_text[i] == ' ':\n",
        "        for j in range(i + 1, i+30):\n",
        "          if full_text[j] == ' ':\n",
        "            break\n",
        "        break\n",
        "    idx_space.append(i)\n",
        "    idx_last.append(j)\n",
        "  \n",
        "  # print(idx_space)\n",
        "  # print(idx_last)\n",
        "  # idx_space_clip = [word.split(' ') + ' ' * (seq_length - len(word.split(' '))) for word in idx_space]\n",
        "  \n",
        "  p = [(i, j) for i, j in zip(idx_space, idx_last)]\n",
        "  q = [[5] * (seq_length - j + i) for i, j in p]\n",
        "  # print(q)\n",
        "\n",
        "  input_batch = np.array([np.array(\n",
        "      encoded_full_text[i:j] + [5] * (seq_length - j + i))\n",
        "      for i, j in zip(idx_space, idx_last)])\n",
        "  \n",
        "  # print(input_batch)\n",
        "  output_batch = np.array([np.array(\n",
        "      encoded_full_text[i+1:j+1] + [5] * (seq_length - j + i))\n",
        "      for i, j in zip(idx_space, idx_last)])\n",
        "  # output_batch = np.array([encoded_full_text[q+1:q+seq_length+1] for q in idx_space])\n",
        "  # x_batch, y_batch provide the true inputs and targets for network training\n",
        "  x_batch = np.reshape(input_batch, [batch_size, seq_length])\n",
        "  y_batch = np.reshape(output_batch, [batch_size, seq_length])\n",
        "  return x_batch, y_batch\n",
        "\n",
        "\n",
        "get_batch3(encoded_full_text, 10, 2)\n"
      ],
      "metadata": {
        "colab": {
          "base_uri": "https://localhost:8080/",
          "height": 355
        },
        "id": "2k-d1VhsgFqW",
        "outputId": "b41ad678-082e-4715-8721-f4f5a17abf8f"
      },
      "execution_count": null,
      "outputs": [
        {
          "output_type": "error",
          "ename": "ValueError",
          "evalue": "ignored",
          "traceback": [
            "\u001b[0;31m---------------------------------------------------------------------------\u001b[0m",
            "\u001b[0;31mValueError\u001b[0m                                Traceback (most recent call last)",
            "\u001b[0;32m<ipython-input-30-ca1b6303f37c>\u001b[0m in \u001b[0;36m<module>\u001b[0;34m\u001b[0m\n\u001b[1;32m     41\u001b[0m \u001b[0;34m\u001b[0m\u001b[0m\n\u001b[1;32m     42\u001b[0m \u001b[0;34m\u001b[0m\u001b[0m\n\u001b[0;32m---> 43\u001b[0;31m \u001b[0mget_batch3\u001b[0m\u001b[0;34m(\u001b[0m\u001b[0mencoded_full_text\u001b[0m\u001b[0;34m,\u001b[0m \u001b[0;36m10\u001b[0m\u001b[0;34m,\u001b[0m \u001b[0;36m2\u001b[0m\u001b[0;34m)\u001b[0m\u001b[0;34m\u001b[0m\u001b[0;34m\u001b[0m\u001b[0m\n\u001b[0m",
            "\u001b[0;32m<ipython-input-30-ca1b6303f37c>\u001b[0m in \u001b[0;36mget_batch3\u001b[0;34m(encoded_full_text, seq_length, batch_size)\u001b[0m\n\u001b[1;32m     28\u001b[0m   input_batch = np.array([np.array(\n\u001b[1;32m     29\u001b[0m       encoded_full_text[i:j] + [5] * (seq_length - j + i))\n\u001b[0;32m---> 30\u001b[0;31m       for i, j in zip(idx_space, idx_last)])\n\u001b[0m\u001b[1;32m     31\u001b[0m \u001b[0;34m\u001b[0m\u001b[0m\n\u001b[1;32m     32\u001b[0m   \u001b[0;31m# print(input_batch)\u001b[0m\u001b[0;34m\u001b[0m\u001b[0;34m\u001b[0m\u001b[0;34m\u001b[0m\u001b[0m\n",
            "\u001b[0;32m<ipython-input-30-ca1b6303f37c>\u001b[0m in \u001b[0;36m<listcomp>\u001b[0;34m(.0)\u001b[0m\n\u001b[1;32m     28\u001b[0m   input_batch = np.array([np.array(\n\u001b[1;32m     29\u001b[0m       encoded_full_text[i:j] + [5] * (seq_length - j + i))\n\u001b[0;32m---> 30\u001b[0;31m       for i, j in zip(idx_space, idx_last)])\n\u001b[0m\u001b[1;32m     31\u001b[0m \u001b[0;34m\u001b[0m\u001b[0m\n\u001b[1;32m     32\u001b[0m   \u001b[0;31m# print(input_batch)\u001b[0m\u001b[0;34m\u001b[0m\u001b[0;34m\u001b[0m\u001b[0;34m\u001b[0m\u001b[0m\n",
            "\u001b[0;31mValueError\u001b[0m: operands could not be broadcast together with shapes (7,) (3,) "
          ]
        }
      ]
    },
    {
      "cell_type": "code",
      "execution_count": null,
      "metadata": {
        "colab": {
          "base_uri": "https://localhost:8080/"
        },
        "id": "32imC9ZkS4gE",
        "outputId": "24f172b2-a09f-42f2-a3f8-3769e37ed7a2"
      },
      "outputs": [
        {
          "output_type": "stream",
          "name": "stdout",
          "text": [
            "(array([17, 14, 38, ..., 10, 17, 37]), 10, 2)\n",
            "2\n",
            "[[17 21 28  6 17 37 17 21 28  6]\n",
            " [ 2 18  6 19 26 37  2 22 17  3]]\n"
          ]
        }
      ],
      "source": [
        "print(test_args)\n",
        "print(len(get_batch(encoded_full_text, 10, 2)[1]))\n",
        "print(get_batch(encoded_full_text, 10, 2)[1])"
      ]
    },
    {
      "cell_type": "markdown",
      "metadata": {
        "id": "_33OHL3b84i0"
      },
      "source": [
        "For each of these vectors, each index is processed at a single time step. So, for the input at time step 0, the model receives the index for the first character in the sequence, and tries to predict the index of the next character. At the next timestep, it does the same thing, but the RNN considers the information from the previous step, i.e., its updated state, in addition to the current input.\n",
        "\n",
        "We can make this concrete by taking a look at how this works over the first several characters in our text:"
      ]
    },
    {
      "cell_type": "code",
      "execution_count": null,
      "metadata": {
        "colab": {
          "base_uri": "https://localhost:8080/"
        },
        "id": "0eBu9WZG84i0",
        "outputId": "b39d7a62-a776-4334-e8ff-1a55252a3f15"
      },
      "outputs": [
        {
          "output_type": "stream",
          "name": "stdout",
          "text": [
            "Step   0\n",
            "  input: 37 (' ')\n",
            "  expected output: 17 ('ا')\n",
            "Step   1\n",
            "  input: 17 ('ا')\n",
            "  expected output: 38 ('ب')\n",
            "Step   2\n",
            "  input: 38 ('ب')\n",
            "  expected output: 21 ('و')\n",
            "Step   3\n",
            "  input: 21 ('و')\n",
            "  expected output: 17 ('ا')\n",
            "Step   4\n",
            "  input: 17 ('ا')\n",
            "  expected output: 19 ('ل')\n"
          ]
        }
      ],
      "source": [
        "x_batch, y_batch = get_batch(encoded_full_text, seq_length=5, batch_size=1)\n",
        "\n",
        "for i, (input_idx, target_idx) in enumerate(zip(np.squeeze(x_batch), np.squeeze(y_batch))):\n",
        "    print(\"Step {:3d}\".format(i))\n",
        "    print(\"  input: {} ({:s})\".format(input_idx, repr(decode_text([input_idx]))))\n",
        "    print(\"  expected output: {} ({:s})\".format(target_idx, repr(decode_text([target_idx]))))"
      ]
    },
    {
      "cell_type": "markdown",
      "metadata": {
        "id": "r6oUuElIMgVx"
      },
      "source": [
        "## 2.4 The Recurrent Neural Network (RNN) model"
      ]
    },
    {
      "cell_type": "markdown",
      "metadata": {
        "id": "m8gPwEjRzf-Z"
      },
      "source": [
        "Now we're ready to define and train a RNN model on our ABC music dataset, and then use that trained model to generate a new song. We'll train our RNN using batches of song snippets from our dataset, which we generated in the previous section.\n",
        "\n",
        "The model is based off the LSTM architecture, where we use a state vector to maintain information about the temporal relationships between consecutive characters. The final output of the LSTM is then fed into a fully connected [`Dense`](https://www.tensorflow.org/api_docs/python/tf/keras/layers/Dense) layer where we'll output a softmax over each character in the vocabulary, and then sample from this distribution to predict the next character. \n",
        "\n",
        "As we introduced in the first portion of this lab, we'll be using the Keras API, specifically, [`tf.keras.Sequential`](https://www.tensorflow.org/api_docs/python/tf/keras/models/Sequential), to define the model. Three layers are used to define the model:\n",
        "\n",
        "* [`tf.keras.layers.Embedding`](https://www.tensorflow.org/api_docs/python/tf/keras/layers/Embedding): This is the input layer, consisting of a trainable lookup table that maps the numbers of each character to a vector with `embedding_dim` dimensions.\n",
        "* [`tf.keras.layers.LSTM`](https://www.tensorflow.org/api_docs/python/tf/keras/layers/LSTM): Our LSTM network, with size `units=rnn_units`. \n",
        "* [`tf.keras.layers.Dense`](https://www.tensorflow.org/api_docs/python/tf/keras/layers/Dense): The output layer, with `vocab_size` outputs.\n",
        "\n",
        "\n",
        "<img src=\"https://raw.githubusercontent.com/aamini/introtodeeplearning/2019/lab1/img/lstm_unrolled-01-01.png\" alt=\"Drawing\"/>"
      ]
    },
    {
      "cell_type": "markdown",
      "metadata": {
        "id": "rlaOqndqBmJo"
      },
      "source": [
        "### Define the RNN model\n",
        "\n",
        "Now, we will define a function that we will use to actually build the model."
      ]
    },
    {
      "cell_type": "code",
      "execution_count": null,
      "metadata": {
        "id": "8DsWzojvkbc7"
      },
      "outputs": [],
      "source": [
        "def LSTM(rnn_units): \n",
        "  return tf.keras.layers.LSTM(\n",
        "    rnn_units, \n",
        "    return_sequences=True, \n",
        "    recurrent_initializer='glorot_uniform',\n",
        "    recurrent_activation='sigmoid',\n",
        "    stateful=True,\n",
        "  )"
      ]
    },
    {
      "cell_type": "markdown",
      "metadata": {
        "id": "IbWU4dMJmMvq"
      },
      "source": [
        "The time has come! Fill in the `TODOs` to define the RNN model within the `build_model` function, and then call the function you just defined to instantiate the model!"
      ]
    },
    {
      "cell_type": "code",
      "execution_count": null,
      "metadata": {
        "id": "MtCrdfzEI2N0"
      },
      "outputs": [],
      "source": [
        "### Defining the RNN Model ###\n",
        "\n",
        "'''TODO: Add LSTM and Dense layers to define the RNN model using the Sequential API.'''\n",
        "def build_model(vocab_size, embedding_dim, rnn_units, batch_size):\n",
        "  model = tf.keras.Sequential([\n",
        "    # Layer 1: Embedding layer to transform indices into dense vectors \n",
        "    #   of a fixed embedding size\n",
        "    tf.keras.layers.Embedding(vocab_size, embedding_dim, batch_input_shape=[batch_size, None]),\n",
        "\n",
        "    # Layer 2: LSTM with `rnn_units` number of units. \n",
        "    # TODO: Call the LSTM function defined above to add this layer.\n",
        "    LSTM(rnn_units),\n",
        "\n",
        "    # Layer 3: Dense (fully-connected) layer that transforms the LSTM output\n",
        "    #   into the vocabulary size. \n",
        "    # TODO: Add the Dense layer.\n",
        "    # '''TODO: DENSE LAYER HERE'''\n",
        "    tf.keras.layers.Dense(units = vocab_size)\n",
        "  ])\n",
        "\n",
        "  return model\n",
        "\n",
        "# Build a simple model with default hyperparameters. You will get the \n",
        "#   chance to change these later.\n",
        "model = build_model(code_size, embedding_dim=256, rnn_units=1024, batch_size=32)"
      ]
    },
    {
      "cell_type": "markdown",
      "metadata": {
        "id": "-ubPo0_9Prjb"
      },
      "source": [
        "### Test out the RNN model\n",
        "\n",
        "It's always a good idea to run a few simple checks on our model to see that it behaves as expected.  \n",
        "\n",
        "First, we can use the `Model.summary` function to print out a summary of our model's internal workings. Here we can check the layers in the model, the shape of the output of each of the layers, the batch size, etc."
      ]
    },
    {
      "cell_type": "code",
      "execution_count": null,
      "metadata": {
        "colab": {
          "base_uri": "https://localhost:8080/"
        },
        "id": "RwG1DD6rDrRM",
        "outputId": "fc36c926-b321-4a57-d80e-de3067ccb462"
      },
      "outputs": [
        {
          "output_type": "stream",
          "name": "stdout",
          "text": [
            "Model: \"sequential\"\n",
            "_________________________________________________________________\n",
            " Layer (type)                Output Shape              Param #   \n",
            "=================================================================\n",
            " embedding (Embedding)       (32, None, 256)           11008     \n",
            "                                                                 \n",
            " lstm (LSTM)                 (32, None, 1024)          5246976   \n",
            "                                                                 \n",
            " dense (Dense)               (32, None, 43)            44075     \n",
            "                                                                 \n",
            "=================================================================\n",
            "Total params: 5,302,059\n",
            "Trainable params: 5,302,059\n",
            "Non-trainable params: 0\n",
            "_________________________________________________________________\n"
          ]
        }
      ],
      "source": [
        "model.summary()"
      ]
    },
    {
      "cell_type": "markdown",
      "metadata": {
        "id": "8xeDn5nZD0LX"
      },
      "source": [
        "We can also quickly check the dimensionality of our output, using a sequence length of 100. Note that the model can be run on inputs of any length."
      ]
    },
    {
      "cell_type": "code",
      "execution_count": null,
      "metadata": {
        "colab": {
          "base_uri": "https://localhost:8080/"
        },
        "id": "C-_70kKAPrPU",
        "outputId": "0ce6b4cc-0086-47e1-fdaa-1f2ba7d7bdf4"
      },
      "outputs": [
        {
          "output_type": "stream",
          "name": "stdout",
          "text": [
            "Input shape:       (32, 100)  # (batch_size, sequence_length)\n",
            "Prediction shape:  (32, 100, 43) # (batch_size, sequence_length, vocab_size)\n"
          ]
        }
      ],
      "source": [
        "x, y = get_batch(encoded_full_text, seq_length=100, batch_size=32)\n",
        "# print(np.shape(y), np.shape(pred))\n",
        "pred = model(x)\n",
        "print(\"Input shape:      \", x.shape, \" # (batch_size, sequence_length)\")\n",
        "print(\"Prediction shape: \", pred.shape, \"# (batch_size, sequence_length, vocab_size)\")"
      ]
    },
    {
      "cell_type": "markdown",
      "metadata": {
        "id": "mT1HvFVUGpoE"
      },
      "source": [
        "### Predictions from the untrained model\n",
        "\n",
        "Let's take a look at what our untrained model is predicting.\n",
        "\n",
        "To get actual predictions from the model, we sample from the output distribution, which is defined by a `softmax` over our character vocabulary. This will give us actual character indices. This means we are using a [categorical distribution](https://en.wikipedia.org/wiki/Categorical_distribution) to sample over the example prediction. This gives a prediction of the next character (specifically its index) at each timestep.\n",
        "\n",
        "Note here that we sample from this probability distribution, as opposed to simply taking the `argmax`, which can cause the model to get stuck in a loop.\n",
        "\n",
        "Let's try this sampling out for the first example in the batch."
      ]
    },
    {
      "cell_type": "code",
      "execution_count": null,
      "metadata": {
        "colab": {
          "base_uri": "https://localhost:8080/"
        },
        "id": "4V4MfFg0RQJg",
        "outputId": "a5544ecb-3d1c-457c-ed64-3cbb2fd69da8"
      },
      "outputs": [
        {
          "output_type": "execute_result",
          "data": {
            "text/plain": [
              "array([21,  1, 28, 31,  7,  5, 19,  2, 12, 10, 22, 16, 16, 38, 17,  2, 38,\n",
              "       20,  9,  4, 34,  5, 37, 29, 13,  7, 31, 27,  4, 28, 25,  9, 12, 36,\n",
              "       31, 21, 41, 29, 12,  3,  3, 29, 20,  2, 21, 19, 13, 10,  1, 18, 28,\n",
              "       38,  8, 36, 10,  9,  8,  2, 23,  1, 19, 14, 38, 39, 17, 10,  7, 19,\n",
              "       41, 24, 15, 27,  1, 38, 28,  0, 31, 21, 31, 29, 12, 26, 11, 25, 14,\n",
              "       21,  4, 19, 27, 22,  5, 30,  6,  9, 39,  2,  0, 23, 33, 32])"
            ]
          },
          "metadata": {},
          "execution_count": 12
        }
      ],
      "source": [
        "sampled_indices = tf.random.categorical(pred[0], num_samples=1)\n",
        "sampled_indices = tf.squeeze(sampled_indices,axis=-1).numpy()\n",
        "sampled_indices"
      ]
    },
    {
      "cell_type": "markdown",
      "metadata": {
        "id": "LfLtsP3mUhCG"
      },
      "source": [
        "We can now decode these to see the text predicted by the untrained model:"
      ]
    },
    {
      "cell_type": "code",
      "execution_count": null,
      "metadata": {
        "colab": {
          "base_uri": "https://localhost:8080/"
        },
        "id": "xWcFwPwLSo05",
        "outputId": "e5ea9737-a31f-4c66-bd01-320d4707bd7c"
      },
      "outputs": [
        {
          "output_type": "stream",
          "name": "stdout",
          "text": [
            " باپیر باپیو باتوف باتیس باتینك باتینوك بادام بادامك بادان بادر بادرام بادلیس بادینان باذان باراد با\n",
            "وگرطْجلفحدغصصبافبءژذؤج كزْطُذرخژحظطوةكحننكءفولزدگضربسظدژسفقگلَبأادْلةچپُگبرمطوطكحتِخَوذلُغجشیژأفمقئث\n"
          ]
        }
      ],
      "source": [
        "# print(\"Input: \\n\", repr(\"\".join(idx2char[x[0]])))\n",
        "print(decode_text(x[0]))\n",
        "print(decode_text(sampled_indices))\n",
        "\n",
        "# print(\"Next Char Predictions: \\n\", repr(\"\".join(idx2char[sampled_indices])))"
      ]
    },
    {
      "cell_type": "markdown",
      "metadata": {
        "id": "HEHHcRasIDm9"
      },
      "source": [
        "As you can see, the text predicted by the untrained model is pretty nonsensical! How can we do better? We can train the network!"
      ]
    },
    {
      "cell_type": "markdown",
      "metadata": {
        "id": "LJL0Q0YPY6Ee"
      },
      "source": [
        "## 2.5 Training the model: loss and training operations\n",
        "\n",
        "Now it's time to train the model!\n",
        "\n",
        "At this point, we can think of our next character prediction problem as a standard classification problem. Given the previous state of the RNN, as well as the input at a given time step, we want to predict the class of the next character -- that is, to actually predict the next character. \n",
        "\n",
        "To train our model on this classification task, we can use a form of the `crossentropy` loss (negative log likelihood loss). Specifically, we will use the [`sparse_categorical_crossentropy`](https://www.tensorflow.org/api_docs/python/tf/keras/losses/sparse_categorical_crossentropy) loss, as it utilizes integer targets for categorical classification tasks. We will want to compute the loss using the true targets -- the `labels` -- and the predicted targets -- the `logits`.\n",
        "\n",
        "Let's first compute the loss using our example predictions from the untrained model: "
      ]
    },
    {
      "cell_type": "code",
      "execution_count": null,
      "metadata": {
        "colab": {
          "base_uri": "https://localhost:8080/"
        },
        "id": "4HrXTACTdzY-",
        "outputId": "20eadc71-ecab-4890-c880-666f3c1d9fab"
      },
      "outputs": [
        {
          "output_type": "stream",
          "name": "stdout",
          "text": [
            "Prediction shape:  (32, 100, 43)  # (batch_size, sequence_length, vocab_size)\n",
            "scalar_loss:       3.7616022\n"
          ]
        }
      ],
      "source": [
        "### Defining the loss function ###\n",
        "\n",
        "'''TODO: define the loss function to compute and return the loss between\n",
        "    the true labels and predictions (logits). Set the argument from_logits=True.'''\n",
        "def compute_loss(labels, logits):\n",
        "  loss = tf.keras.losses.sparse_categorical_crossentropy(labels, logits, from_logits=True) # TODO\n",
        "  return loss\n",
        "\n",
        "'''TODO: compute the loss using the true next characters from the example batch \n",
        "    and the predictions from the untrained model several cells above'''\n",
        "example_batch_loss = compute_loss(y, pred) # TODO\n",
        "\n",
        "print(\"Prediction shape: \", pred.shape, \" # (batch_size, sequence_length, vocab_size)\") \n",
        "print(\"scalar_loss:      \", example_batch_loss.numpy().mean())"
      ]
    },
    {
      "cell_type": "markdown",
      "metadata": {
        "id": "0Seh7e6eRqd7"
      },
      "source": [
        "Let's start by defining some hyperparameters for training the model. To start, we have provided some reasonable values for some of the parameters. It is up to you to use what we've learned in class to help optimize the parameter selection here!"
      ]
    },
    {
      "cell_type": "code",
      "execution_count": null,
      "metadata": {
        "id": "JQWUUhKotkAY"
      },
      "outputs": [],
      "source": [
        "### Hyperparameter setting and optimization ###\n",
        "\n",
        "# Optimization parameters:\n",
        "num_training_iterations = 5_000  # Increase this to train longer\n",
        "batch_size = 16  # Experiment between 1 and 64\n",
        "seq_length = 20  # Experiment between 50 and 500\n",
        "learning_rate = 1e-2  # Experiment between 1e-5 and 1e-1\n",
        "\n",
        "# Model parameters: \n",
        "vocab_size = code_size\n",
        "embedding_dim = 256 \n",
        "rnn_units = 1024 # Experiment between 1 and 2048\n",
        "\n",
        "# Checkpoint location: \n",
        "checkpoint_dir = './training_checkpoints'\n",
        "checkpoint_prefix = os.path.join(checkpoint_dir, \"my_ckpt\")"
      ]
    },
    {
      "cell_type": "markdown",
      "metadata": {
        "id": "5cu11p1MKYZd"
      },
      "source": [
        "Now, we are ready to define our training operation -- the optimizer and duration of training -- and use this function to train the model. You will experiment with the choice of optimizer and the duration for which you train your models, and see how these changes affect the network's output. Some optimizers you may like to try are [`Adam`](https://www.tensorflow.org/api_docs/python/tf/keras/optimizers/Adam?version=stable) and [`Adagrad`](https://www.tensorflow.org/api_docs/python/tf/keras/optimizers/Adagrad?version=stable).\n",
        "\n",
        "First, we will instantiate a new model and an optimizer. Then, we will use the [`tf.GradientTape`](https://www.tensorflow.org/api_docs/python/tf/GradientTape) method to perform the backpropagation operations. \n",
        "\n",
        "We will also generate a print-out of the model's progress through training, which will help us easily visualize whether or not we are minimizing the loss."
      ]
    },
    {
      "cell_type": "code",
      "source": [
        "model = build_model(vocab_size, embedding_dim, rnn_units, batch_size)\n",
        "model.summary()"
      ],
      "metadata": {
        "colab": {
          "base_uri": "https://localhost:8080/"
        },
        "id": "k93vfJujPOQ0",
        "outputId": "0b8d64f7-5267-40a8-b46b-390fff9cf222"
      },
      "execution_count": null,
      "outputs": [
        {
          "output_type": "stream",
          "name": "stdout",
          "text": [
            "Model: \"sequential_1\"\n",
            "_________________________________________________________________\n",
            " Layer (type)                Output Shape              Param #   \n",
            "=================================================================\n",
            " embedding_1 (Embedding)     (16, None, 256)           11008     \n",
            "                                                                 \n",
            " lstm_1 (LSTM)               (16, None, 1024)          5246976   \n",
            "                                                                 \n",
            " dense_1 (Dense)             (16, None, 43)            44075     \n",
            "                                                                 \n",
            "=================================================================\n",
            "Total params: 5,302,059\n",
            "Trainable params: 5,302,059\n",
            "Non-trainable params: 0\n",
            "_________________________________________________________________\n"
          ]
        }
      ]
    },
    {
      "cell_type": "code",
      "execution_count": null,
      "metadata": {
        "colab": {
          "base_uri": "https://localhost:8080/",
          "height": 559
        },
        "id": "F31vzJ_u66cb",
        "outputId": "5714e949-d9fc-423c-f9b3-da3e2b64dd96"
      },
      "outputs": [
        {
          "output_type": "display_data",
          "data": {
            "text/plain": [
              "<Figure size 432x288 with 1 Axes>"
            ],
            "image/png": "[encoded data removed]"
          },
          "metadata": {}
        },
        {
          "output_type": "stream",
          "name": "stderr",
          "text": [
            "100%|██████████| 5000/5000 [00:49<00:00, 100.67it/s]\n"
          ]
        },
        {
          "output_type": "display_data",
          "data": {
            "text/plain": [
              "<Figure size 432x288 with 1 Axes>"
            ],
            "image/png": "[encoded data removed]"
          },
          "metadata": {
            "needs_background": "light"
          }
        }
      ],
      "source": [
        "### Define optimizer and training operation ###\n",
        "\n",
        "'''TODO: instantiate a new model for training using the `build_model`\n",
        "  function and the hyperparameters created above.'''\n",
        "model = build_model(vocab_size, embedding_dim, rnn_units, batch_size)\n",
        "\n",
        "'''TODO: instantiate an optimizer with its learning rate.\n",
        "  Checkout the tensorflow website for a list of supported optimizers.\n",
        "  https://www.tensorflow.org/api_docs/python/tf/keras/optimizers/\n",
        "  Try using the Adam optimizer to start.'''\n",
        "optimizer = tf.keras.optimizers.Adam(learning_rate)\n",
        "\n",
        "@tf.function\n",
        "def train_step(x, y): \n",
        "  # Use tf.GradientTape()\n",
        "  with tf.GradientTape() as tape:\n",
        "  \n",
        "    '''TODO: feed the current input into the model and generate predictions'''\n",
        "    y_hat = model(x)\n",
        "  \n",
        "    '''TODO: compute the loss!'''\n",
        "    loss = compute_loss(y, y_hat)\n",
        "\n",
        "  # Now, compute the gradients \n",
        "  '''TODO: complete the function call for gradient computation. \n",
        "      Remember that we want the gradient of the loss with respect all \n",
        "      of the model parameters. \n",
        "      HINT: use `model.trainable_variables` to get a list of all model\n",
        "      parameters.'''\n",
        "  grads = tape.gradient(loss, model.trainable_variables)\n",
        "  \n",
        "  # Apply the gradients to the optimizer so it can update the model accordingly\n",
        "  optimizer.apply_gradients(zip(grads, model.trainable_variables))\n",
        "  return loss\n",
        "\n",
        "##################\n",
        "# Begin training!#\n",
        "##################\n",
        "\n",
        "history = []\n",
        "plotter = mdl.util.PeriodicPlotter(sec=2, xlabel='Iterations', ylabel='Loss')\n",
        "if hasattr(tqdm, '_instances'): tqdm._instances.clear() # clear if it exists\n",
        "\n",
        "for iter in tqdm(range(num_training_iterations)):\n",
        "\n",
        "  # Grab a batch and propagate it through the network\n",
        "  x_batch, y_batch = get_batch(encoded_full_text, seq_length, batch_size)\n",
        "  # x_batch, y_batch = get_batch2(encoded_words, seq_length, batch_size)\n",
        "  loss = train_step(x_batch, y_batch)\n",
        "  \n",
        "  # Update the progress bar\n",
        "  history.append(loss.numpy().mean())\n",
        "  plotter.plot(history)\n",
        "\n",
        "  # Update the model with the changed weights!\n",
        "  if iter % 1000 == 0:     \n",
        "    model.save_weights(checkpoint_prefix)\n",
        "    \n",
        "# Save the trained model and the weights\n",
        "model.save_weights(checkpoint_prefix)\n"
      ]
    },
    {
      "cell_type": "markdown",
      "metadata": {
        "id": "kKkD5M6eoSiN"
      },
      "source": [
        "## 2.6 Generate music using the RNN model\n",
        "\n",
        "Now, we can use our trained RNN model to generate some music! When generating music, we'll have to feed the model some sort of seed to get it started (because it can't predict anything without something to start with!).\n",
        "\n",
        "Once we have a generated seed, we can then iteratively predict each successive character (remember, we are using the ABC representation for our music) using our trained RNN. More specifically, recall that our RNN outputs a `softmax` over possible successive characters. For inference, we iteratively sample from these distributions, and then use our samples to encode a generated song in the ABC format.\n",
        "\n",
        "Then, all we have to do is write it to a file and listen!"
      ]
    },
    {
      "cell_type": "markdown",
      "metadata": {
        "id": "JIPcXllKjkdr"
      },
      "source": [
        "### Restore the latest checkpoint\n",
        "\n",
        "To keep this inference step simple, we will use a batch size of 1. Because of how the RNN state is passed from timestep to timestep, the model will only be able to accept a fixed batch size once it is built. \n",
        "\n",
        "To run the model with a different `batch_size`, we'll need to rebuild the model and restore the weights from the latest checkpoint, i.e., the weights after the last checkpoint during training:"
      ]
    },
    {
      "cell_type": "code",
      "execution_count": null,
      "metadata": {
        "colab": {
          "base_uri": "https://localhost:8080/"
        },
        "id": "LycQ-ot_jjyu",
        "outputId": "67319d7b-9256-476e-b9aa-04d662ff1089"
      },
      "outputs": [
        {
          "output_type": "stream",
          "name": "stdout",
          "text": [
            "Model: \"sequential_6\"\n",
            "_________________________________________________________________\n",
            " Layer (type)                Output Shape              Param #   \n",
            "=================================================================\n",
            " embedding_6 (Embedding)     (1, None, 256)            11008     \n",
            "                                                                 \n",
            " lstm_6 (LSTM)               (1, None, 1024)           5246976   \n",
            "                                                                 \n",
            " dense_6 (Dense)             (1, None, 43)             44075     \n",
            "                                                                 \n",
            "=================================================================\n",
            "Total params: 5,302,059\n",
            "Trainable params: 5,302,059\n",
            "Non-trainable params: 0\n",
            "_________________________________________________________________\n"
          ]
        }
      ],
      "source": [
        "'''TODO: Rebuild the model using a batch_size=1'''\n",
        "model = build_model(vocab_size, embedding_dim, rnn_units, batch_size=1)\n",
        "\n",
        "# Restore the model weights for the last checkpoint after training\n",
        "model.load_weights(tf.train.latest_checkpoint(checkpoint_dir))\n",
        "model.build(tf.TensorShape([1, None]))\n",
        "\n",
        "model.summary()"
      ]
    },
    {
      "cell_type": "markdown",
      "metadata": {
        "id": "I9b4V2C8N62l"
      },
      "source": [
        "Notice that we have fed in a fixed `batch_size` of 1 for inference."
      ]
    },
    {
      "cell_type": "markdown",
      "metadata": {
        "id": "DjGz1tDkzf-u"
      },
      "source": [
        "### The prediction procedure\n",
        "\n",
        "Now, we're ready to write the code to generate text in the ABC music format:\n",
        "\n",
        "* Initialize a \"seed\" start string and the RNN state, and set the number of characters we want to generate.\n",
        "\n",
        "* Use the start string and the RNN state to obtain the probability distribution over the next predicted character.\n",
        "\n",
        "* Sample from multinomial distribution to calculate the index of the predicted character. This predicted character is then used as the next input to the model.\n",
        "\n",
        "* At each time step, the updated RNN state is fed back into the model, so that it now has more context in making the next prediction. After predicting the next character, the updated RNN states are again fed back into the model, which is how it learns sequence dependencies in the data, as it gets more information from the previous predictions.\n",
        "\n",
        "![LSTM inference](https://raw.githubusercontent.com/aamini/introtodeeplearning/2019/lab1/img/lstm_inference.png)\n",
        "\n",
        "Complete and experiment with this code block (as well as some of the aspects of network definition and training!), and see how the model performs. How do songs generated after training with a small number of epochs compare to those generated after a longer duration of training?"
      ]
    },
    {
      "cell_type": "code",
      "execution_count": null,
      "metadata": {
        "id": "WvuwZBX5Ogfd"
      },
      "outputs": [],
      "source": [
        "### Prediction of a generated song ###\n",
        "\n",
        "def generate_text(model, start_string, generation_length=1000):\n",
        "  # Evaluation step (generating ABC text using the learned RNN model)\n",
        "\n",
        "  '''TODO: convert the start string t\n",
        "The executing code is not responding to interrupts. Would you like to try restarting the runtime? Runtime state including all local variables will be lost.\n",
        "o numbers (vectorize)'''\n",
        "  input_eval = encode_text(start_string)\n",
        "  input_eval = tf.expand_dims(input_eval, 0)\n",
        "\n",
        "  # Empty string to store our results\n",
        "  text_generated = []\n",
        "\n",
        "  # Here batch size == 1\n",
        "  model.reset_states()\n",
        "  tqdm._instances.clear()\n",
        "\n",
        "  for i in tqdm(range(generation_length)):\n",
        "      '''TODO: evaluate the inputs and generate the next character predictions'''\n",
        "      predictions = model(input_eval)\n",
        "      \n",
        "      # Remove the batch dimension\n",
        "      predictions = tf.squeeze(predictions, 0)\n",
        "      \n",
        "      '''TODO: use a multinomial distribution to sample'''\n",
        "      predicted_id = tf.random.categorical(predictions, num_samples=1)[-1,0].numpy()\n",
        "      \n",
        "      # Pass the prediction along with the previous hidden state\n",
        "      #   as the next inputs to the model\n",
        "      input_eval = tf.expand_dims([predicted_id], 0)\n",
        "      \n",
        "      '''TODO: add the predicted character to the generated text!'''\n",
        "      # Hint: consider what format the prediction is in vs. the output\n",
        "      text_generated.append(predicted_id)\n",
        "    \n",
        "  return (start_string + decode_text(text_generated))"
      ]
    },
    {
      "cell_type": "code",
      "execution_count": null,
      "metadata": {
        "colab": {
          "base_uri": "https://localhost:8080/"
        },
        "id": "ktovv0RFhrkn",
        "outputId": "792416ca-cb11-48a6-86eb-2eef8c630da9"
      },
      "outputs": [
        {
          "output_type": "stream",
          "name": "stderr",
          "text": [
            "100%|██████████| 100/100 [00:00<00:00, 147.29it/s]\n",
            "100%|██████████| 100/100 [00:00<00:00, 159.55it/s]\n",
            "100%|██████████| 100/100 [00:00<00:00, 160.34it/s]\n",
            "100%|██████████| 100/100 [00:00<00:00, 161.47it/s]\n",
            "100%|██████████| 100/100 [00:00<00:00, 162.09it/s]\n",
            "100%|██████████| 100/100 [00:00<00:00, 166.34it/s]\n",
            "100%|██████████| 100/100 [00:00<00:00, 162.12it/s]\n",
            "100%|██████████| 100/100 [00:00<00:00, 163.85it/s]\n",
            "100%|██████████| 100/100 [00:00<00:00, 159.94it/s]\n",
            "100%|██████████| 100/100 [00:00<00:00, 162.05it/s]"
          ]
        },
        {
          "output_type": "stream",
          "name": "stdout",
          "text": [
            "\n",
            " بوواكل یخوشارون یدادان آتان حارنوش ناتونا صلدادله سپوشت آپندختك وهروتك منمس شرزاقین نیلوت برشان ماهو\n",
            " آقمتوتها محمانوا واقلهر مهالل دوروامه نوتخت فروتح فرتو نارقی بادله تواوده اویره پوشان چوتست خرفراراه\n",
            " لهانوالدومارتون كواون روگل ورمكو مهاءار دل سپینوت شارسانرنداله كخت دلافخت آدیس پساساساكل عبدخت سامین\n",
            " آپونوام تاوسا اتالده صغوروان فصهیره ختیل ندخت اكواسه صندل مقادالله زانوش شادان شهاد باناز تقدخت ارین\n",
            " ظعحماناز خوالن مویندان پارحده تانر فرا هلوان فرشسپناه پالعنون نوشالدك شروین شاراینه قاماللیت برداونر\n",
            " گانینوزمینه ال دلالحو ققمكانه واونا بنی ادكون نوهونه امن نسات اممام بانیاد كاوق شهرین فرینون محیا هو\n",
            " قیاسنسان افروا مقفلبدخت قوران صلكون ققاارتكار كیكو شال بانو یلست پوتویاد آراون مهوكاهوش بروا شهرووان\n",
            " آیاوتپاداللتونرسام شیصدین شال كوتنوت وائان شارفراقدیس نارنوا فوراونسانونده نت امیون خیلین سیت پاپوا \n",
            " گونالاللهان حوتان وهال شینكون كلقان رخسدین شهنو مهراریلوهله نوه خوناد پرواردی ماتن لیلین كیتالله اَر\n",
            " آاواوشودناهوالكالله پندان رخان كلین شستانین نوپوندن تونیندكا هیزال چهریكوان تودانو آذرین فره پرقیدخت\n"
          ]
        },
        {
          "output_type": "stream",
          "name": "stderr",
          "text": [
            "\n"
          ]
        }
      ],
      "source": [
        "'''TODO: Use the model and the function defined above to generate ABC format text of length 1000!\n",
        "    As you may notice, ABC files start with \"X\" - this may be a good start string.'''\n",
        "generated_text = '\\n'.join([generate_text(model, start_string=\" \", generation_length=100) for _ in range(10)]) # TODO\n",
        "# generated_text = generate_text('''TODO''', start_string=\"X\", generation_length=1000)\n",
        "print()\n",
        "print(generated_text)"
      ]
    }
  ],
  "metadata": {
    "accelerator": "GPU",
    "colab": {
      "collapsed_sections": [],
      "provenance": [],
      "include_colab_link": true
    },
    "kernelspec": {
      "display_name": "Python 3",
      "name": "python3"
    }
  },
  "nbformat": 4,
  "nbformat_minor": 0
}